{
 "cells": [
  {
   "cell_type": "markdown",
   "id": "dec71a53",
   "metadata": {},
   "source": [
    "## Take input from the user check\n",
    "* The length of the string even or odd\n",
    "* if the string length is odd access middle character\n",
    "* if the string length is even access two middle characters"
   ]
  },
  {
   "cell_type": "code",
   "execution_count": 3,
   "id": "8db31cb8",
   "metadata": {},
   "outputs": [
    {
     "name": "stdout",
     "output_type": "stream",
     "text": [
      "Enter your input: Hari\n",
      "Length of your string is 4\n",
      "Length of your string is Even\n",
      "Middle character of your string is ar\n"
     ]
    }
   ],
   "source": [
    "# For Even Case\n",
    "str = input(\"Enter your input: \")\n",
    "print('Length of your string is', len(str))\n",
    "if (len(str) % 2 == 0):\n",
    "    print(\"Length of your string is Even\")\n",
    "else:\n",
    "    print(\"Length of your string is Odd\")\n",
    "def middle_char(str):\n",
    "    return str[(len(str)-1)//2:(len(str)+2)//2]\n",
    "print(\"Middle character of your string is\", middle_char(str))"
   ]
  },
  {
   "cell_type": "code",
   "execution_count": 4,
   "id": "984a2f25",
   "metadata": {},
   "outputs": [
    {
     "name": "stdout",
     "output_type": "stream",
     "text": [
      "Enter your input: Prakash\n",
      "Length of your string is 7\n",
      "Length of your string is Odd\n",
      "Middle character of your string is k\n"
     ]
    }
   ],
   "source": [
    "# For odd case\n",
    "str = input(\"Enter your input: \")\n",
    "print('Length of your string is', len(str))\n",
    "if (len(str) % 2 == 0):\n",
    "    print(\"Length of your string is Even\")\n",
    "else:\n",
    "    print(\"Length of your string is Odd\")\n",
    "def middle_char(str):\n",
    "    return str[(len(str)-1)//2:(len(str)+2)//2]\n",
    "print(\"Middle character of your string is\", middle_char(str))"
   ]
  }
 ],
 "metadata": {
  "kernelspec": {
   "display_name": "Python 3",
   "language": "python",
   "name": "python3"
  },
  "language_info": {
   "codemirror_mode": {
    "name": "ipython",
    "version": 3
   },
   "file_extension": ".py",
   "mimetype": "text/x-python",
   "name": "python",
   "nbconvert_exporter": "python",
   "pygments_lexer": "ipython3",
   "version": "3.8.8"
  }
 },
 "nbformat": 4,
 "nbformat_minor": 5
}
