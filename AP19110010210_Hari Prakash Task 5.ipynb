{
 "cells": [
  {
   "cell_type": "markdown",
   "id": "c234a261",
   "metadata": {},
   "source": [
    "### 1) Write a Python script to print a dictionary where the keys are numbers between 1 and 15 (both included) and the values are square of keys"
   ]
  },
  {
   "cell_type": "code",
   "execution_count": 4,
   "id": "8f34b8aa",
   "metadata": {},
   "outputs": [
    {
     "name": "stdout",
     "output_type": "stream",
     "text": [
      "d = {1: 1, 2: 4, 3: 9, 4: 16, 5: 25, 6: 36, 7: 49, 8: 64, 9: 81, 10: 100, 11: 121, 12: 144, 13: 169, 14: 196, 15: 225}\n"
     ]
    }
   ],
   "source": [
    "d=dict()\n",
    "for i in range(1,16):\n",
    "    d[i]=i**2\n",
    "print(\"d =\",d)"
   ]
  },
  {
   "cell_type": "markdown",
   "id": "ed62572d",
   "metadata": {},
   "source": [
    "### 2) Write a Python program to map two lists into a dictionary"
   ]
  },
  {
   "cell_type": "code",
   "execution_count": 7,
   "id": "6bb18d5e",
   "metadata": {},
   "outputs": [
    {
     "name": "stdout",
     "output_type": "stream",
     "text": [
      "Dictionary: {'David Warner': 'Australia', 'Dhoni': 'India', 'Kane Williamson': 'New Zealand', 'Rashid Khan': 'Afghanistan'}\n"
     ]
    }
   ],
   "source": [
    "players = ['David Warner', 'Dhoni', 'Kane Williamson', 'Rashid Khan']\n",
    "teams = ['Australia', 'India', 'New Zealand', 'Afghanistan']\n",
    "dictionary = dict(zip(players, teams))\n",
    "print(\"Dictionary:\",dictionary)\n"
   ]
  },
  {
   "cell_type": "markdown",
   "id": "e53e4ab5",
   "metadata": {},
   "source": [
    "### 3) Write a Python program to sort a list alphabetically in a dictionary\n",
    "\n",
    "input : {'n1': [2, 3, 1], 'n2': [5, 1, 2], 'n3': [3, 2, 4]}\n",
    "\n",
    "output : {'n1': [1, 2, 3], 'n2': [1, 2, 5], 'n3': [2, 3, 4]}"
   ]
  },
  {
   "cell_type": "code",
   "execution_count": 9,
   "id": "535122b2",
   "metadata": {},
   "outputs": [
    {
     "name": "stdout",
     "output_type": "stream",
     "text": [
      "{'n1': [1, 2, 3], 'n2': [1, 2, 5], 'n3': [2, 3, 4]}\n"
     ]
    }
   ],
   "source": [
    "d = {'n1': [2, 3, 1], 'n2': [5, 1, 2], 'n3': [3, 2, 4]}\n",
    "sorted_dict = {x: sorted(y) for x, y in d.items()}\n",
    "print(sorted_dict)"
   ]
  }
 ],
 "metadata": {
  "kernelspec": {
   "display_name": "Python 3",
   "language": "python",
   "name": "python3"
  },
  "language_info": {
   "codemirror_mode": {
    "name": "ipython",
    "version": 3
   },
   "file_extension": ".py",
   "mimetype": "text/x-python",
   "name": "python",
   "nbconvert_exporter": "python",
   "pygments_lexer": "ipython3",
   "version": "3.8.8"
  }
 },
 "nbformat": 4,
 "nbformat_minor": 5
}
