{
 "cells": [
  {
   "cell_type": "markdown",
   "id": "83aceb1a",
   "metadata": {},
   "source": [
    "## 1) Write a program to check wheather the user eligible for vote or not."
   ]
  },
  {
   "cell_type": "code",
   "execution_count": 12,
   "id": "59d36ace",
   "metadata": {},
   "outputs": [
    {
     "name": "stdout",
     "output_type": "stream",
     "text": [
      "Enter your age: 15\n",
      "You are not eligible for vote.\n"
     ]
    }
   ],
   "source": [
    "age = int(input(\"Enter your age: \"))\n",
    "if age < 18:\n",
    "    print(\"You are not eligible for vote.\")\n",
    "else:\n",
    "    print(\"You are eligible to vote.\")   "
   ]
  },
  {
   "cell_type": "code",
   "execution_count": 13,
   "id": "3b12d84b",
   "metadata": {},
   "outputs": [
    {
     "name": "stdout",
     "output_type": "stream",
     "text": [
      "Enter your age: 19\n",
      "You are eligible to vote.\n"
     ]
    }
   ],
   "source": [
    "age = int(input(\"Enter your age: \"))\n",
    "if age < 18:\n",
    "    print(\"You are not eligible for vote.\")\n",
    "else:\n",
    "    print(\"You are eligible to vote.\")   "
   ]
  },
  {
   "cell_type": "markdown",
   "id": "66ee8d1e",
   "metadata": {},
   "source": [
    "##  2) Check the given number is positive or negative."
   ]
  },
  {
   "cell_type": "code",
   "execution_count": 14,
   "id": "0b2e3915",
   "metadata": {},
   "outputs": [
    {
     "name": "stdout",
     "output_type": "stream",
     "text": [
      "Enter a number: 15\n",
      "The number is positive.\n"
     ]
    }
   ],
   "source": [
    "number = float(input(\"Enter a number: \"))\n",
    "if number < 0:\n",
    "    print(\"The number is negative.\")\n",
    "else:\n",
    "    print(\"The number is positive.\")"
   ]
  },
  {
   "cell_type": "code",
   "execution_count": 15,
   "id": "6cd57cd9",
   "metadata": {},
   "outputs": [
    {
     "name": "stdout",
     "output_type": "stream",
     "text": [
      "Enter a number: -2\n",
      "The number is negative.\n"
     ]
    }
   ],
   "source": [
    "number = float(input(\"Enter a number: \"))\n",
    "if number < 0:\n",
    "    print(\"The number is negative.\")\n",
    "else:\n",
    "    print(\"The number is positive.\")"
   ]
  },
  {
   "cell_type": "markdown",
   "id": "13966951",
   "metadata": {},
   "source": [
    "## 3) Check the given number is even or odd if it's even check which is divisible by 4 or not."
   ]
  },
  {
   "cell_type": "code",
   "execution_count": 18,
   "id": "3226a6ff",
   "metadata": {},
   "outputs": [
    {
     "name": "stdout",
     "output_type": "stream",
     "text": [
      "Enter a number: 16\n",
      "The given number is even.\n",
      "The given number divisible by 4.\n"
     ]
    }
   ],
   "source": [
    "n = int(input(\"Enter a number: \"))\n",
    "if(n % 2) == 0:\n",
    "    print(\"The given number is even.\")\n",
    "else:\n",
    "    print(\"The given number is odd.\")\n",
    "if((n % 4) == 0):\n",
    "    print(\"The given number divisible by 4.\")"
   ]
  },
  {
   "cell_type": "code",
   "execution_count": 19,
   "id": "4b5c5ca6",
   "metadata": {},
   "outputs": [
    {
     "name": "stdout",
     "output_type": "stream",
     "text": [
      "Enter a number: 9\n",
      "The given number is odd.\n"
     ]
    }
   ],
   "source": [
    "n = int(input(\"Enter a number: \"))\n",
    "if(n % 2) == 0:\n",
    "    print(\"The given number is even.\")\n",
    "else:\n",
    "    print(\"The given number is odd.\")\n",
    "if((n % 4) == 0):\n",
    "    print(\"The given number divisible by 4.\")"
   ]
  },
  {
   "cell_type": "markdown",
   "id": "98d560aa",
   "metadata": {},
   "source": [
    "## 4) Write a program to print student grade based on persentage like Distinction,pass or fail."
   ]
  },
  {
   "cell_type": "code",
   "execution_count": 7,
   "id": "37e7c206",
   "metadata": {},
   "outputs": [
    {
     "name": "stdout",
     "output_type": "stream",
     "text": [
      "Enter your marks: 32\n",
      "You are Fail.\n"
     ]
    }
   ],
   "source": [
    "marks = float(input(\"Enter your marks: \"))\n",
    "if marks <= 35:\n",
    "    print(\"You are Fail.\")\n",
    "if (marks > 35) & (marks <= 75):\n",
    "    print(\"You are Pass.\")\n",
    "if (marks > 75) & (marks <= 100):\n",
    "    print(\"You are Passed with distinction.\")"
   ]
  },
  {
   "cell_type": "code",
   "execution_count": 8,
   "id": "0a9d3def",
   "metadata": {},
   "outputs": [
    {
     "name": "stdout",
     "output_type": "stream",
     "text": [
      "Enter your marks: 53\n",
      "You are Pass.\n"
     ]
    }
   ],
   "source": [
    "marks = float(input(\"Enter your marks: \"))\n",
    "if marks <= 35:\n",
    "    print(\"You are Fail.\")\n",
    "if (marks > 35) & (marks <= 75):\n",
    "    print(\"You are Pass.\")\n",
    "if (marks > 75) & (marks <= 100):\n",
    "    print(\"You are Passed with distinction.\")"
   ]
  },
  {
   "cell_type": "code",
   "execution_count": 9,
   "id": "f4ab0408",
   "metadata": {},
   "outputs": [
    {
     "name": "stdout",
     "output_type": "stream",
     "text": [
      "Enter your marks: 87\n",
      "You are Passed with distinction.\n"
     ]
    }
   ],
   "source": [
    "marks = float(input(\"Enter your marks: \"))\n",
    "if marks <= 35:\n",
    "    print(\"You are Fail.\")\n",
    "if (marks > 35) & (marks <= 75):\n",
    "    print(\"You are Pass.\")\n",
    "if (marks > 75) & (marks <= 100):\n",
    "    print(\"You are Passed with distinction.\")"
   ]
  },
  {
   "cell_type": "markdown",
   "id": "864afcf6",
   "metadata": {},
   "source": [
    "## 5) Check the given year is Leap or not."
   ]
  },
  {
   "cell_type": "code",
   "execution_count": 10,
   "id": "0d69f574",
   "metadata": {},
   "outputs": [
    {
     "name": "stdout",
     "output_type": "stream",
     "text": [
      "Enter the year: 2012\n",
      "2012 is a leap year\n"
     ]
    }
   ],
   "source": [
    "year = int(input(\"Enter the year: \"))\n",
    "if (year % 4) == 0:\n",
    "    if (year % 100) == 0:\n",
    "        if (year % 400) == 0:\n",
    "            print(\"{0} is a leap year\".format(year))\n",
    "        else:\n",
    "            print(\"{0} is not a leap year\".format(year))\n",
    "    else:\n",
    "        print(\"{0} is a leap year\".format(year))\n",
    "else:\n",
    "    print(\"{0} is not a leap year\".format(year))"
   ]
  },
  {
   "cell_type": "code",
   "execution_count": 11,
   "id": "47c30f03",
   "metadata": {},
   "outputs": [
    {
     "name": "stdout",
     "output_type": "stream",
     "text": [
      "Enter the year: 2009\n",
      "2009 is not a leap year\n"
     ]
    }
   ],
   "source": [
    "year = int(input(\"Enter the year: \"))\n",
    "if (year % 4) == 0:\n",
    "    if (year % 100) == 0:\n",
    "        if (year % 400) == 0:\n",
    "            print(\"{0} is a leap year\".format(year))\n",
    "        else:\n",
    "            print(\"{0} is not a leap year\".format(year))\n",
    "    else:\n",
    "        print(\"{0} is a leap year\".format(year))\n",
    "else:\n",
    "    print(\"{0} is not a leap year\".format(year))"
   ]
  }
 ],
 "metadata": {
  "kernelspec": {
   "display_name": "Python 3",
   "language": "python",
   "name": "python3"
  },
  "language_info": {
   "codemirror_mode": {
    "name": "ipython",
    "version": 3
   },
   "file_extension": ".py",
   "mimetype": "text/x-python",
   "name": "python",
   "nbconvert_exporter": "python",
   "pygments_lexer": "ipython3",
   "version": "3.8.8"
  }
 },
 "nbformat": 4,
 "nbformat_minor": 5
}
