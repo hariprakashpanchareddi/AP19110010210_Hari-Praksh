{
 "cells": [
  {
   "cell_type": "markdown",
   "id": "73afb963",
   "metadata": {},
   "source": [
    "## Generate 3-digit OTP from 2 different classes(Mail Class and Phone Class) and return 6 digit OTP from Baseclasses(super classes)"
   ]
  },
  {
   "cell_type": "code",
   "execution_count": 5,
   "id": "6c756147",
   "metadata": {},
   "outputs": [],
   "source": [
    "import random"
   ]
  },
  {
   "cell_type": "code",
   "execution_count": 6,
   "id": "91352ea2",
   "metadata": {},
   "outputs": [],
   "source": [
    "class Mail:\n",
    "    def __init__(self):\n",
    "        self.s1 = random.randint(100, 999)\n",
    "        print(\"Your 3-digit OTP is: \",self.s1)\n",
    "class Phone:\n",
    "    def __init__(self):\n",
    "        self.s2 = random.randint(100, 999)\n",
    "        print(\"Your 3-digit OTP is: \",self.s2)\n",
    "class otp(Mail, Phone):\n",
    "    def __init__(self):\n",
    "        Mail.__init__(self)\n",
    "        Phone.__init__(self)\n",
    "        print(\"Your 6-digit OTP is: \",str(self.s1)+str(self.s2))"
   ]
  },
  {
   "cell_type": "code",
   "execution_count": 7,
   "id": "7c5ea2b5",
   "metadata": {},
   "outputs": [
    {
     "name": "stdout",
     "output_type": "stream",
     "text": [
      "Your 3-digit OTP is:  153\n",
      "Your 3-digit OTP is:  562\n",
      "Your 6-digit OTP is:  153562\n"
     ]
    }
   ],
   "source": [
    "obj = otp()"
   ]
  },
  {
   "cell_type": "code",
   "execution_count": 8,
   "id": "24a88fff",
   "metadata": {},
   "outputs": [
    {
     "name": "stdout",
     "output_type": "stream",
     "text": [
      "Your 3-digit OTP is:  156\n",
      "Your 3-digit OTP is:  663\n",
      "Your 6-digit OTP is:  156663\n"
     ]
    }
   ],
   "source": [
    "obj = otp()"
   ]
  }
 ],
 "metadata": {
  "kernelspec": {
   "display_name": "Python 3",
   "language": "python",
   "name": "python3"
  },
  "language_info": {
   "codemirror_mode": {
    "name": "ipython",
    "version": 3
   },
   "file_extension": ".py",
   "mimetype": "text/x-python",
   "name": "python",
   "nbconvert_exporter": "python",
   "pygments_lexer": "ipython3",
   "version": "3.8.8"
  }
 },
 "nbformat": 4,
 "nbformat_minor": 5
}
