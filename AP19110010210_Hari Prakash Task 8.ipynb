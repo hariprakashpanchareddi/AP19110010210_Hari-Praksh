{
 "cells": [
  {
   "cell_type": "markdown",
   "id": "72e9a9e5",
   "metadata": {},
   "source": [
    "#### Write a Program to \n",
    "* Ask the userto enter data\n",
    "* Check the data if it's camelcase print like (thumbsup) emoji\n",
    "* else convert data into camelcase then speakout successfully converted your data into camelcase"
   ]
  },
  {
   "cell_type": "code",
   "execution_count": 1,
   "id": "f4fcdb9d",
   "metadata": {},
   "outputs": [],
   "source": [
    "import emoji\n",
    "import camelcase\n",
    "import pyttsx3"
   ]
  },
  {
   "cell_type": "code",
   "execution_count": 4,
   "id": "34c1f6a0",
   "metadata": {},
   "outputs": [
    {
     "name": "stdout",
     "output_type": "stream",
     "text": [
      "Enter your data: Hello World!\n",
      "👍\n"
     ]
    }
   ],
   "source": [
    "def program():\n",
    "    a= input(\"Enter your data: \")\n",
    "    if a == camelcase.CamelCase().hump(a):\n",
    "        print(emoji.emojize(':thumbs_up:'))\n",
    "    else:\n",
    "        spk = pyttsx3.init()\n",
    "        spk.say(\"Successfully converted your data into camelcase\")\n",
    "        spk.runAndWait()\n",
    "        print(\"Your data in camelcase: \",camelcase.CamelCase().hump(a))\n",
    "program()\n"
   ]
  }
 ],
 "metadata": {
  "kernelspec": {
   "display_name": "Python 3",
   "language": "python",
   "name": "python3"
  },
  "language_info": {
   "codemirror_mode": {
    "name": "ipython",
    "version": 3
   },
   "file_extension": ".py",
   "mimetype": "text/x-python",
   "name": "python",
   "nbconvert_exporter": "python",
   "pygments_lexer": "ipython3",
   "version": "3.8.8"
  }
 },
 "nbformat": 4,
 "nbformat_minor": 5
}
