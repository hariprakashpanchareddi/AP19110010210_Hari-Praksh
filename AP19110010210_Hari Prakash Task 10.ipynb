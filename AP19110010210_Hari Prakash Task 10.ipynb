{
 "cells": [
  {
   "cell_type": "markdown",
   "id": "ca3a05d0",
   "metadata": {},
   "source": [
    "### Write a program for getting the last five line from the file"
   ]
  },
  {
   "cell_type": "code",
   "execution_count": 40,
   "id": "c4dcc5db",
   "metadata": {},
   "outputs": [],
   "source": [
    "f = open(\"file1.txt\", 'w')\n",
    "f.close()"
   ]
  },
  {
   "cell_type": "code",
   "execution_count": 41,
   "id": "9f77396c",
   "metadata": {},
   "outputs": [
    {
     "name": "stdout",
     "output_type": "stream",
     "text": [
      "Your file:\n",
      "1st line \n",
      "2nd line \n",
      "3rd line \n",
      "4th line \n",
      "5th line \n",
      "6th line \n",
      "7th line \n",
      "8th line \n",
      "9th line \n",
      "10th line \n",
      "\n"
     ]
    }
   ],
   "source": [
    "f = open(\"file1.txt\", 'w')\n",
    "f.write(\"1st line \\n\")\n",
    "f.write(\"2nd line \\n\")\n",
    "f.write(\"3rd line \\n\")\n",
    "f.write(\"4th line \\n\")\n",
    "f.write(\"5th line \\n\")\n",
    "f.write(\"6th line \\n\")\n",
    "f.write(\"7th line \\n\")\n",
    "f.write(\"8th line \\n\")\n",
    "f.write(\"9th line \\n\")\n",
    "f.write(\"10th line \\n\")\n",
    "\n",
    "f = open('file1.txt')\n",
    "print(\"Your file:\")\n",
    "print(f.read())\n",
    "f.close()"
   ]
  },
  {
   "cell_type": "code",
   "execution_count": 42,
   "id": "68e246d9",
   "metadata": {},
   "outputs": [
    {
     "name": "stdout",
     "output_type": "stream",
     "text": [
      "Last five lines:\n",
      "['6th line \\n', '7th line \\n', '8th line \\n', '9th line \\n', '10th line \\n']\n"
     ]
    }
   ],
   "source": [
    "f = open(\"file1.txt\", 'r')\n",
    "l = f.readlines()\n",
    "print(\"Last five lines:\")\n",
    "last_5_lines = l[-5:]\n",
    "print(last_5_lines)\n",
    "a.close()"
   ]
  },
  {
   "cell_type": "markdown",
   "id": "fad39ee2",
   "metadata": {},
   "source": [
    "### Create a function for appending the data into the file"
   ]
  },
  {
   "cell_type": "code",
   "execution_count": 43,
   "id": "86fad37b",
   "metadata": {},
   "outputs": [],
   "source": [
    "f = open('file2.txt','w')\n",
    "f.close()"
   ]
  },
  {
   "cell_type": "code",
   "execution_count": 44,
   "id": "900f2c28",
   "metadata": {},
   "outputs": [
    {
     "name": "stdout",
     "output_type": "stream",
     "text": [
      "Your data:\n",
      "data1 \n",
      "data2 \n",
      "data3 \n",
      "\n"
     ]
    }
   ],
   "source": [
    "f = open('file2.txt','w')\n",
    "f.write(\"data1 \\n\")\n",
    "f.write(\"data2 \\n\")\n",
    "f.write(\"data3 \\n\")\n",
    "f.close()\n",
    "\n",
    "f = open('file2.txt')\n",
    "print(\"Your data:\")\n",
    "print(f.read())\n",
    "f.close()"
   ]
  },
  {
   "cell_type": "markdown",
   "id": "3997fb84",
   "metadata": {},
   "source": [
    "* Function to append the data "
   ]
  },
  {
   "cell_type": "code",
   "execution_count": 45,
   "id": "c1ef44b7",
   "metadata": {},
   "outputs": [
    {
     "name": "stdout",
     "output_type": "stream",
     "text": [
      "appended data:\n",
      "data1 \n",
      "data2 \n",
      "data3 \n",
      "data4 \n",
      "data5 \n",
      "\n"
     ]
    }
   ],
   "source": [
    "def append():\n",
    "    f=open('file2.txt', 'a+')\n",
    "    f.write(\"data4 \\n\")\n",
    "    f.write(\"data5 \\n\") \n",
    "    f.close()\n",
    "    \n",
    "append()\n",
    "\n",
    "f = open('file2.txt')\n",
    "print(\"appended data:\")\n",
    "print(f.read())\n",
    "f.close()\n"
   ]
  },
  {
   "cell_type": "markdown",
   "id": "98cf6020",
   "metadata": {},
   "source": [
    "* create a program for updating a word in the file"
   ]
  },
  {
   "cell_type": "code",
   "execution_count": 46,
   "id": "99cc7709",
   "metadata": {},
   "outputs": [
    {
     "name": "stdout",
     "output_type": "stream",
     "text": [
      "Name   Uni    Roll_No \n",
      "Hari  SRMAP  210\n",
      "\n"
     ]
    }
   ],
   "source": [
    "import re\n",
    "f = open('file3.txt','w')\n",
    "f.write(\"Name   Uni    Roll_No \\n\")\n",
    "f.write(\"Hari  SRMAP  210\\n\")\n",
    "f.close()\n",
    "f = open('file3.txt')\n",
    "print(f.read())"
   ]
  },
  {
   "cell_type": "code",
   "execution_count": 47,
   "id": "7d7f99e1",
   "metadata": {
    "scrolled": false
   },
   "outputs": [
    {
     "name": "stdout",
     "output_type": "stream",
     "text": [
      "Updated Data: AP19110010210\n",
      "Name   Uni    Roll_No \n",
      "Hari  SRMAP  AP19110010210\n",
      "\n"
     ]
    }
   ],
   "source": [
    "with open('file3.txt','r+') as f:\n",
    "    text = f.read()\n",
    "    text = re.sub('210', input(\"Updated Data: \"), text)\n",
    "    f.seek(0)\n",
    "    f.write(text)\n",
    "    f.truncate()\n",
    "f = open('file3.txt')\n",
    "print(f.read())\n"
   ]
  }
 ],
 "metadata": {
  "kernelspec": {
   "display_name": "Python 3",
   "language": "python",
   "name": "python3"
  },
  "language_info": {
   "codemirror_mode": {
    "name": "ipython",
    "version": 3
   },
   "file_extension": ".py",
   "mimetype": "text/x-python",
   "name": "python",
   "nbconvert_exporter": "python",
   "pygments_lexer": "ipython3",
   "version": "3.8.8"
  }
 },
 "nbformat": 4,
 "nbformat_minor": 5
}
