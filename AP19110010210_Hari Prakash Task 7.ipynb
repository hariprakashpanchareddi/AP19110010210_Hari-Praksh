{
 "cells": [
  {
   "cell_type": "markdown",
   "id": "c9531495",
   "metadata": {},
   "source": [
    "## Create a function for finding the leap years in the given range"
   ]
  },
  {
   "cell_type": "code",
   "execution_count": 4,
   "id": "7e573371",
   "metadata": {},
   "outputs": [
    {
     "name": "stdout",
     "output_type": "stream",
     "text": [
      "Enter the starting year from: 1970\n",
      "Enter the ending year: 1990\n",
      "Leap years between the range 1970 and 1990 are\n",
      "1972\n",
      "1976\n",
      "1980\n",
      "1984\n",
      "1988\n"
     ]
    }
   ],
   "source": [
    "def leap_year(x):\n",
    "    if (x%4==0 and x%100!=0 or x%400==0):\n",
    "        return True\n",
    "    else:\n",
    "        return False\n",
    "start = int(input(\"Enter the starting year from: \"))\n",
    "end = int(input(\"Enter the ending year: \"))\n",
    "print(\"Leap years between the range\", start, \"and\", end, \"are\")\n",
    "for i in range(start, end):\n",
    "    if leap_year(i) == True:\n",
    "        print(i)"
   ]
  },
  {
   "cell_type": "markdown",
   "id": "7c01f26f",
   "metadata": {},
   "source": [
    "## Create a function for getting armstrong numbers within the given range"
   ]
  },
  {
   "cell_type": "code",
   "execution_count": 3,
   "id": "7515653c",
   "metadata": {},
   "outputs": [
    {
     "name": "stdout",
     "output_type": "stream",
     "text": [
      "Enter the initial number: 10\n",
      "Enter the final number: 500\n",
      "The Armstrong numbers from 10 to 500 are\n",
      "153\n",
      "370\n",
      "371\n",
      "407\n"
     ]
    }
   ],
   "source": [
    "def armstrong(a, b):\n",
    "    for i in range(a, b+1):\n",
    "        num = i\n",
    "        result = 0\n",
    "        n = len(str(i))\n",
    "        while(i != 0):\n",
    "            digit = i % 10\n",
    "            result = result + digit ** n\n",
    "            i = i//10\n",
    "        if num == result:\n",
    "            print(num)\n",
    "i_no = int(input(\"Enter the initial number: \"))\n",
    "f_no = int(input(\"Enter the final number: \"))\n",
    "print(\"The Armstrong numbers from\", i_no, \"to\", f_no, \"are\")\n",
    "armstrong(i_no, f_no)"
   ]
  }
 ],
 "metadata": {
  "kernelspec": {
   "display_name": "Python 3",
   "language": "python",
   "name": "python3"
  },
  "language_info": {
   "codemirror_mode": {
    "name": "ipython",
    "version": 3
   },
   "file_extension": ".py",
   "mimetype": "text/x-python",
   "name": "python",
   "nbconvert_exporter": "python",
   "pygments_lexer": "ipython3",
   "version": "3.8.8"
  }
 },
 "nbformat": 4,
 "nbformat_minor": 5
}
